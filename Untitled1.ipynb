{
  "nbformat": 4,
  "nbformat_minor": 0,
  "metadata": {
    "colab": {
      "name": "Untitled1.ipynb",
      "provenance": [],
      "authorship_tag": "ABX9TyNr6nyTyT8Q+YkhmT+92uE9",
      "include_colab_link": true
    },
    "kernelspec": {
      "name": "python3",
      "display_name": "Python 3"
    },
    "language_info": {
      "name": "python"
    }
  },
  "cells": [
    {
      "cell_type": "markdown",
      "metadata": {
        "id": "view-in-github",
        "colab_type": "text"
      },
      "source": [
        "<a href=\"https://colab.research.google.com/github/Ray9090/Coronavirus-in-Texas/blob/main/Untitled1.ipynb\" target=\"_parent\"><img src=\"https://colab.research.google.com/assets/colab-badge.svg\" alt=\"Open In Colab\"/></a>"
      ]
    },
    {
      "cell_type": "code",
      "metadata": {
        "id": "YFVC8XgKAXfm"
      },
      "source": [
        "import numpy as np\n",
        "import pandas as pd\n",
        "import os\n",
        "import matplotlib.pyplot as plt\n",
        "import heapq\n",
        "\n",
        "\n",
        "cities= \"/C:/Users/mozam/PycharmProjects/pythonProject/Covid/cities.csv\""
      ],
      "execution_count": null,
      "outputs": []
    },
    {
      "cell_type": "code",
      "metadata": {
        "colab": {
          "base_uri": "https://localhost:8080/"
        },
        "id": "biw8kTs6BBo5",
        "outputId": "e76be111-d918-48db-b152-2e09aaacf1ac"
      },
      "source": [
        "pip install GDAL"
      ],
      "execution_count": null,
      "outputs": [
        {
          "output_type": "stream",
          "name": "stdout",
          "text": [
            "Requirement already satisfied: GDAL in /usr/local/lib/python3.7/dist-packages (2.2.2)\n"
          ]
        }
      ]
    },
    {
      "cell_type": "code",
      "metadata": {
        "colab": {
          "base_uri": "https://localhost:8080/"
        },
        "id": "9jUETCghBPYv",
        "outputId": "ca0180fe-9d7e-4c0b-b96f-4d4efc00c034"
      },
      "source": [
        "pip install geopandas"
      ],
      "execution_count": null,
      "outputs": [
        {
          "output_type": "stream",
          "name": "stdout",
          "text": [
            "Collecting geopandas\n",
            "  Downloading geopandas-0.9.0-py2.py3-none-any.whl (994 kB)\n",
            "\u001b[?25l\r\u001b[K     |▎                               | 10 kB 25.5 MB/s eta 0:00:01\r\u001b[K     |▋                               | 20 kB 27.1 MB/s eta 0:00:01\r\u001b[K     |█                               | 30 kB 12.6 MB/s eta 0:00:01\r\u001b[K     |█▎                              | 40 kB 9.3 MB/s eta 0:00:01\r\u001b[K     |█▋                              | 51 kB 4.1 MB/s eta 0:00:01\r\u001b[K     |██                              | 61 kB 4.2 MB/s eta 0:00:01\r\u001b[K     |██▎                             | 71 kB 4.2 MB/s eta 0:00:01\r\u001b[K     |██▋                             | 81 kB 4.7 MB/s eta 0:00:01\r\u001b[K     |███                             | 92 kB 4.7 MB/s eta 0:00:01\r\u001b[K     |███▎                            | 102 kB 4.0 MB/s eta 0:00:01\r\u001b[K     |███▋                            | 112 kB 4.0 MB/s eta 0:00:01\r\u001b[K     |████                            | 122 kB 4.0 MB/s eta 0:00:01\r\u001b[K     |████▎                           | 133 kB 4.0 MB/s eta 0:00:01\r\u001b[K     |████▋                           | 143 kB 4.0 MB/s eta 0:00:01\r\u001b[K     |█████                           | 153 kB 4.0 MB/s eta 0:00:01\r\u001b[K     |█████▎                          | 163 kB 4.0 MB/s eta 0:00:01\r\u001b[K     |█████▋                          | 174 kB 4.0 MB/s eta 0:00:01\r\u001b[K     |██████                          | 184 kB 4.0 MB/s eta 0:00:01\r\u001b[K     |██████▎                         | 194 kB 4.0 MB/s eta 0:00:01\r\u001b[K     |██████▋                         | 204 kB 4.0 MB/s eta 0:00:01\r\u001b[K     |███████                         | 215 kB 4.0 MB/s eta 0:00:01\r\u001b[K     |███████▎                        | 225 kB 4.0 MB/s eta 0:00:01\r\u001b[K     |███████▋                        | 235 kB 4.0 MB/s eta 0:00:01\r\u001b[K     |████████                        | 245 kB 4.0 MB/s eta 0:00:01\r\u001b[K     |████████▎                       | 256 kB 4.0 MB/s eta 0:00:01\r\u001b[K     |████████▋                       | 266 kB 4.0 MB/s eta 0:00:01\r\u001b[K     |█████████                       | 276 kB 4.0 MB/s eta 0:00:01\r\u001b[K     |█████████▎                      | 286 kB 4.0 MB/s eta 0:00:01\r\u001b[K     |█████████▌                      | 296 kB 4.0 MB/s eta 0:00:01\r\u001b[K     |█████████▉                      | 307 kB 4.0 MB/s eta 0:00:01\r\u001b[K     |██████████▏                     | 317 kB 4.0 MB/s eta 0:00:01\r\u001b[K     |██████████▌                     | 327 kB 4.0 MB/s eta 0:00:01\r\u001b[K     |██████████▉                     | 337 kB 4.0 MB/s eta 0:00:01\r\u001b[K     |███████████▏                    | 348 kB 4.0 MB/s eta 0:00:01\r\u001b[K     |███████████▌                    | 358 kB 4.0 MB/s eta 0:00:01\r\u001b[K     |███████████▉                    | 368 kB 4.0 MB/s eta 0:00:01\r\u001b[K     |████████████▏                   | 378 kB 4.0 MB/s eta 0:00:01\r\u001b[K     |████████████▌                   | 389 kB 4.0 MB/s eta 0:00:01\r\u001b[K     |████████████▉                   | 399 kB 4.0 MB/s eta 0:00:01\r\u001b[K     |█████████████▏                  | 409 kB 4.0 MB/s eta 0:00:01\r\u001b[K     |█████████████▌                  | 419 kB 4.0 MB/s eta 0:00:01\r\u001b[K     |█████████████▉                  | 430 kB 4.0 MB/s eta 0:00:01\r\u001b[K     |██████████████▏                 | 440 kB 4.0 MB/s eta 0:00:01\r\u001b[K     |██████████████▌                 | 450 kB 4.0 MB/s eta 0:00:01\r\u001b[K     |██████████████▉                 | 460 kB 4.0 MB/s eta 0:00:01\r\u001b[K     |███████████████▏                | 471 kB 4.0 MB/s eta 0:00:01\r\u001b[K     |███████████████▌                | 481 kB 4.0 MB/s eta 0:00:01\r\u001b[K     |███████████████▉                | 491 kB 4.0 MB/s eta 0:00:01\r\u001b[K     |████████████████▏               | 501 kB 4.0 MB/s eta 0:00:01\r\u001b[K     |████████████████▌               | 512 kB 4.0 MB/s eta 0:00:01\r\u001b[K     |████████████████▉               | 522 kB 4.0 MB/s eta 0:00:01\r\u001b[K     |█████████████████▏              | 532 kB 4.0 MB/s eta 0:00:01\r\u001b[K     |█████████████████▌              | 542 kB 4.0 MB/s eta 0:00:01\r\u001b[K     |█████████████████▉              | 552 kB 4.0 MB/s eta 0:00:01\r\u001b[K     |██████████████████▏             | 563 kB 4.0 MB/s eta 0:00:01\r\u001b[K     |██████████████████▌             | 573 kB 4.0 MB/s eta 0:00:01\r\u001b[K     |██████████████████▊             | 583 kB 4.0 MB/s eta 0:00:01\r\u001b[K     |███████████████████             | 593 kB 4.0 MB/s eta 0:00:01\r\u001b[K     |███████████████████▍            | 604 kB 4.0 MB/s eta 0:00:01\r\u001b[K     |███████████████████▊            | 614 kB 4.0 MB/s eta 0:00:01\r\u001b[K     |████████████████████            | 624 kB 4.0 MB/s eta 0:00:01\r\u001b[K     |████████████████████▍           | 634 kB 4.0 MB/s eta 0:00:01\r\u001b[K     |████████████████████▊           | 645 kB 4.0 MB/s eta 0:00:01\r\u001b[K     |█████████████████████           | 655 kB 4.0 MB/s eta 0:00:01\r\u001b[K     |█████████████████████▍          | 665 kB 4.0 MB/s eta 0:00:01\r\u001b[K     |█████████████████████▊          | 675 kB 4.0 MB/s eta 0:00:01\r\u001b[K     |██████████████████████          | 686 kB 4.0 MB/s eta 0:00:01\r\u001b[K     |██████████████████████▍         | 696 kB 4.0 MB/s eta 0:00:01\r\u001b[K     |██████████████████████▊         | 706 kB 4.0 MB/s eta 0:00:01\r\u001b[K     |███████████████████████         | 716 kB 4.0 MB/s eta 0:00:01\r\u001b[K     |███████████████████████▍        | 727 kB 4.0 MB/s eta 0:00:01\r\u001b[K     |███████████████████████▊        | 737 kB 4.0 MB/s eta 0:00:01\r\u001b[K     |████████████████████████        | 747 kB 4.0 MB/s eta 0:00:01\r\u001b[K     |████████████████████████▍       | 757 kB 4.0 MB/s eta 0:00:01\r\u001b[K     |████████████████████████▊       | 768 kB 4.0 MB/s eta 0:00:01\r\u001b[K     |█████████████████████████       | 778 kB 4.0 MB/s eta 0:00:01\r\u001b[K     |█████████████████████████▍      | 788 kB 4.0 MB/s eta 0:00:01\r\u001b[K     |█████████████████████████▊      | 798 kB 4.0 MB/s eta 0:00:01\r\u001b[K     |██████████████████████████      | 808 kB 4.0 MB/s eta 0:00:01\r\u001b[K     |██████████████████████████▍     | 819 kB 4.0 MB/s eta 0:00:01\r\u001b[K     |██████████████████████████▊     | 829 kB 4.0 MB/s eta 0:00:01\r\u001b[K     |███████████████████████████     | 839 kB 4.0 MB/s eta 0:00:01\r\u001b[K     |███████████████████████████▍    | 849 kB 4.0 MB/s eta 0:00:01\r\u001b[K     |███████████████████████████▊    | 860 kB 4.0 MB/s eta 0:00:01\r\u001b[K     |████████████████████████████    | 870 kB 4.0 MB/s eta 0:00:01\r\u001b[K     |████████████████████████████▎   | 880 kB 4.0 MB/s eta 0:00:01\r\u001b[K     |████████████████████████████▋   | 890 kB 4.0 MB/s eta 0:00:01\r\u001b[K     |█████████████████████████████   | 901 kB 4.0 MB/s eta 0:00:01\r\u001b[K     |█████████████████████████████▎  | 911 kB 4.0 MB/s eta 0:00:01\r\u001b[K     |█████████████████████████████▋  | 921 kB 4.0 MB/s eta 0:00:01\r\u001b[K     |██████████████████████████████  | 931 kB 4.0 MB/s eta 0:00:01\r\u001b[K     |██████████████████████████████▎ | 942 kB 4.0 MB/s eta 0:00:01\r\u001b[K     |██████████████████████████████▋ | 952 kB 4.0 MB/s eta 0:00:01\r\u001b[K     |███████████████████████████████ | 962 kB 4.0 MB/s eta 0:00:01\r\u001b[K     |███████████████████████████████▎| 972 kB 4.0 MB/s eta 0:00:01\r\u001b[K     |███████████████████████████████▋| 983 kB 4.0 MB/s eta 0:00:01\r\u001b[K     |████████████████████████████████| 993 kB 4.0 MB/s eta 0:00:01\r\u001b[K     |████████████████████████████████| 994 kB 4.0 MB/s \n",
            "\u001b[?25hRequirement already satisfied: pandas>=0.24.0 in /usr/local/lib/python3.7/dist-packages (from geopandas) (1.1.5)\n",
            "Requirement already satisfied: shapely>=1.6 in /usr/local/lib/python3.7/dist-packages (from geopandas) (1.7.1)\n",
            "Collecting pyproj>=2.2.0\n",
            "  Downloading pyproj-3.2.1-cp37-cp37m-manylinux2010_x86_64.whl (6.3 MB)\n",
            "\u001b[K     |████████████████████████████████| 6.3 MB 22.9 MB/s \n",
            "\u001b[?25hCollecting fiona>=1.8\n",
            "  Downloading Fiona-1.8.20-cp37-cp37m-manylinux1_x86_64.whl (15.4 MB)\n",
            "\u001b[K     |████████████████████████████████| 15.4 MB 39 kB/s \n",
            "\u001b[?25hRequirement already satisfied: six>=1.7 in /usr/local/lib/python3.7/dist-packages (from fiona>=1.8->geopandas) (1.15.0)\n",
            "Requirement already satisfied: setuptools in /usr/local/lib/python3.7/dist-packages (from fiona>=1.8->geopandas) (57.4.0)\n",
            "Collecting munch\n",
            "  Downloading munch-2.5.0-py2.py3-none-any.whl (10 kB)\n",
            "Requirement already satisfied: attrs>=17 in /usr/local/lib/python3.7/dist-packages (from fiona>=1.8->geopandas) (21.2.0)\n",
            "Collecting cligj>=0.5\n",
            "  Downloading cligj-0.7.2-py3-none-any.whl (7.1 kB)\n",
            "Requirement already satisfied: click>=4.0 in /usr/local/lib/python3.7/dist-packages (from fiona>=1.8->geopandas) (7.1.2)\n",
            "Requirement already satisfied: certifi in /usr/local/lib/python3.7/dist-packages (from fiona>=1.8->geopandas) (2021.5.30)\n",
            "Collecting click-plugins>=1.0\n",
            "  Downloading click_plugins-1.1.1-py2.py3-none-any.whl (7.5 kB)\n",
            "Requirement already satisfied: python-dateutil>=2.7.3 in /usr/local/lib/python3.7/dist-packages (from pandas>=0.24.0->geopandas) (2.8.2)\n",
            "Requirement already satisfied: numpy>=1.15.4 in /usr/local/lib/python3.7/dist-packages (from pandas>=0.24.0->geopandas) (1.19.5)\n",
            "Requirement already satisfied: pytz>=2017.2 in /usr/local/lib/python3.7/dist-packages (from pandas>=0.24.0->geopandas) (2018.9)\n",
            "Installing collected packages: munch, cligj, click-plugins, pyproj, fiona, geopandas\n",
            "Successfully installed click-plugins-1.1.1 cligj-0.7.2 fiona-1.8.20 geopandas-0.9.0 munch-2.5.0 pyproj-3.2.1\n"
          ]
        }
      ]
    },
    {
      "cell_type": "code",
      "metadata": {
        "colab": {
          "base_uri": "https://localhost:8080/"
        },
        "id": "5QiaXpiKBgEO",
        "outputId": "1d854979-cace-4175-ac53-12867febad24"
      },
      "source": [
        "pip install Shapely"
      ],
      "execution_count": null,
      "outputs": [
        {
          "output_type": "stream",
          "name": "stdout",
          "text": [
            "Requirement already satisfied: Shapely in /usr/local/lib/python3.7/dist-packages (1.7.1)\n"
          ]
        }
      ]
    },
    {
      "cell_type": "code",
      "metadata": {
        "colab": {
          "base_uri": "https://localhost:8080/"
        },
        "id": "Y4gxS709FJ2o",
        "outputId": "19579e0b-4ebd-4123-eb0e-ef393138d18b"
      },
      "source": [
        "pip install fsspec"
      ],
      "execution_count": 12,
      "outputs": [
        {
          "output_type": "stream",
          "name": "stdout",
          "text": [
            "Collecting fsspec\n",
            "  Downloading fsspec-2021.9.0-py3-none-any.whl (123 kB)\n",
            "\u001b[?25l\r\u001b[K     |██▋                             | 10 kB 25.5 MB/s eta 0:00:01\r\u001b[K     |█████▎                          | 20 kB 9.7 MB/s eta 0:00:01\r\u001b[K     |████████                        | 30 kB 8.2 MB/s eta 0:00:01\r\u001b[K     |██████████▋                     | 40 kB 7.4 MB/s eta 0:00:01\r\u001b[K     |█████████████▎                  | 51 kB 4.0 MB/s eta 0:00:01\r\u001b[K     |████████████████                | 61 kB 4.2 MB/s eta 0:00:01\r\u001b[K     |██████████████████▌             | 71 kB 4.2 MB/s eta 0:00:01\r\u001b[K     |█████████████████████▏          | 81 kB 4.7 MB/s eta 0:00:01\r\u001b[K     |███████████████████████▉        | 92 kB 3.6 MB/s eta 0:00:01\r\u001b[K     |██████████████████████████▌     | 102 kB 3.9 MB/s eta 0:00:01\r\u001b[K     |█████████████████████████████▏  | 112 kB 3.9 MB/s eta 0:00:01\r\u001b[K     |███████████████████████████████▉| 122 kB 3.9 MB/s eta 0:00:01\r\u001b[K     |████████████████████████████████| 123 kB 3.9 MB/s \n",
            "\u001b[?25hInstalling collected packages: fsspec\n",
            "Successfully installed fsspec-2021.9.0\n"
          ]
        }
      ]
    },
    {
      "cell_type": "code",
      "metadata": {
        "id": "9bFJ81qdBrfQ"
      },
      "source": [
        "import pandas as pd\n",
        "from shapely.geometry import Point\n",
        "import geopandas as gpd\n",
        "from geopandas import GeoDataFrame"
      ],
      "execution_count": 9,
      "outputs": []
    },
    {
      "cell_type": "code",
      "metadata": {
        "id": "uCuwVoPcBxPI"
      },
      "source": [
        "import pandas as pd\n",
        "from shapely.geometry import Point\n",
        "import geopandas as gpd\n",
        "from geopandas import GeoDataFrame\n",
        "\n",
        "url = 'https://raw.githubusercontent.com/Ray9090/Coronavirus-in-Texas/main/cities.csv'\n",
        "df = pd.read_csv(url , delimiter='none', skiprows=0, low_memory=True)\n",
        "\n",
        "geometry = [Point(xy) for xy in zip(df[1], df[2])]\n",
        "\n",
        "gdf = GeoDataFrame(df, geometry=geometry)   \n",
        "\n",
        "#this is a simple map that goes with geopandas\n",
        "world = gpd.read_file(gpd.datasets.get_path('naturalearth_lowres'))\n",
        "gdf.plot(ax=world.plot(figsize=(10, 6)), marker='o', color='red', markersize=15);"
      ],
      "execution_count": null,
      "outputs": []
    },
    {
      "cell_type": "code",
      "metadata": {
        "id": "Q3tTPvYqMhXU"
      },
      "source": [
        "import plotly.express as px\n",
        "import pandas as pd\n",
        "\n",
        "url = 'https://raw.githubusercontent.com/Ray9090/Coronavirus-in-Texas/main/cities.csv'\n",
        "df = pd.read_csv(url)\n",
        "\n"
      ],
      "execution_count": 6,
      "outputs": []
    },
    {
      "cell_type": "code",
      "metadata": {
        "colab": {
          "base_uri": "https://localhost:8080/"
        },
        "id": "_30vH8EsUaDb",
        "outputId": "12c84cd9-aba9-48b3-d76d-89cbb0d10d8c"
      },
      "source": [
        "pip install --upgrade matplotlib"
      ],
      "execution_count": 2,
      "outputs": [
        {
          "output_type": "stream",
          "name": "stdout",
          "text": [
            "Requirement already satisfied: matplotlib in /usr/local/lib/python3.7/dist-packages (3.4.3)\n",
            "Requirement already satisfied: pyparsing>=2.2.1 in /usr/local/lib/python3.7/dist-packages (from matplotlib) (2.4.7)\n",
            "Requirement already satisfied: cycler>=0.10 in /usr/local/lib/python3.7/dist-packages (from matplotlib) (0.10.0)\n",
            "Requirement already satisfied: pillow>=6.2.0 in /usr/local/lib/python3.7/dist-packages (from matplotlib) (7.1.2)\n",
            "Requirement already satisfied: python-dateutil>=2.7 in /usr/local/lib/python3.7/dist-packages (from matplotlib) (2.8.2)\n",
            "Requirement already satisfied: numpy>=1.16 in /usr/local/lib/python3.7/dist-packages (from matplotlib) (1.19.5)\n",
            "Requirement already satisfied: kiwisolver>=1.0.1 in /usr/local/lib/python3.7/dist-packages (from matplotlib) (1.3.2)\n",
            "Requirement already satisfied: six in /usr/local/lib/python3.7/dist-packages (from cycler>=0.10->matplotlib) (1.15.0)\n"
          ]
        }
      ]
    },
    {
      "cell_type": "code",
      "metadata": {
        "colab": {
          "base_uri": "https://localhost:8080/"
        },
        "id": "ffDuL0T-WY6D",
        "outputId": "da2a7eb1-6bd8-4967-e844-370d2d55b319"
      },
      "source": [
        "!pip install --upgrade matplotlib"
      ],
      "execution_count": 4,
      "outputs": [
        {
          "output_type": "stream",
          "name": "stdout",
          "text": [
            "Requirement already satisfied: matplotlib in /usr/local/lib/python3.7/dist-packages (3.4.3)\n",
            "Requirement already satisfied: cycler>=0.10 in /usr/local/lib/python3.7/dist-packages (from matplotlib) (0.10.0)\n",
            "Requirement already satisfied: python-dateutil>=2.7 in /usr/local/lib/python3.7/dist-packages (from matplotlib) (2.8.2)\n",
            "Requirement already satisfied: numpy>=1.16 in /usr/local/lib/python3.7/dist-packages (from matplotlib) (1.19.5)\n",
            "Requirement already satisfied: pyparsing>=2.2.1 in /usr/local/lib/python3.7/dist-packages (from matplotlib) (2.4.7)\n",
            "Requirement already satisfied: pillow>=6.2.0 in /usr/local/lib/python3.7/dist-packages (from matplotlib) (7.1.2)\n",
            "Requirement already satisfied: kiwisolver>=1.0.1 in /usr/local/lib/python3.7/dist-packages (from matplotlib) (1.3.2)\n",
            "Requirement already satisfied: six in /usr/local/lib/python3.7/dist-packages (from cycler>=0.10->matplotlib) (1.15.0)\n"
          ]
        }
      ]
    },
    {
      "cell_type": "code",
      "metadata": {
        "colab": {
          "base_uri": "https://localhost:8080/"
        },
        "id": "bTjCML7OWnR8",
        "outputId": "8adff5bf-a141-4417-d65d-5d3ccbcba5a8"
      },
      "source": [
        "!apt-get install libgeos-3.5.0\n",
        "!apt-get install libgeos-dev\n",
        "!pip install https://github.com/matplotlib/basemap/archive/master.zip\n",
        "!pip install pyproj==1.9.6"
      ],
      "execution_count": 1,
      "outputs": [
        {
          "output_type": "stream",
          "name": "stdout",
          "text": [
            "Reading package lists... Done\n",
            "Building dependency tree       \n",
            "Reading state information... Done\n",
            "E: Unable to locate package libgeos-3.5.0\n",
            "E: Couldn't find any package by glob 'libgeos-3.5.0'\n",
            "E: Couldn't find any package by regex 'libgeos-3.5.0'\n",
            "Reading package lists... Done\n",
            "Building dependency tree       \n",
            "Reading state information... Done\n",
            "libgeos-dev is already the newest version (3.6.2-1build2).\n",
            "0 upgraded, 0 newly installed, 0 to remove and 37 not upgraded.\n",
            "Collecting https://github.com/matplotlib/basemap/archive/master.zip\n",
            "  Using cached https://github.com/matplotlib/basemap/archive/master.zip\n",
            "Requirement already satisfied: matplotlib!=3.0.1,>=1.0.0 in /usr/local/lib/python3.7/dist-packages (from basemap==1.2.2+dev) (3.4.3)\n",
            "Requirement already satisfied: numpy>=1.2.1 in /usr/local/lib/python3.7/dist-packages (from basemap==1.2.2+dev) (1.19.5)\n",
            "Requirement already satisfied: pyproj>=1.9.3 in /usr/local/lib/python3.7/dist-packages (from basemap==1.2.2+dev) (1.9.6)\n",
            "Requirement already satisfied: pyshp>=1.2.0 in /usr/local/lib/python3.7/dist-packages (from basemap==1.2.2+dev) (2.1.3)\n",
            "Requirement already satisfied: six in /usr/local/lib/python3.7/dist-packages (from basemap==1.2.2+dev) (1.15.0)\n",
            "Requirement already satisfied: python-dateutil>=2.7 in /usr/local/lib/python3.7/dist-packages (from matplotlib!=3.0.1,>=1.0.0->basemap==1.2.2+dev) (2.8.2)\n",
            "Requirement already satisfied: pyparsing>=2.2.1 in /usr/local/lib/python3.7/dist-packages (from matplotlib!=3.0.1,>=1.0.0->basemap==1.2.2+dev) (2.4.7)\n",
            "Requirement already satisfied: cycler>=0.10 in /usr/local/lib/python3.7/dist-packages (from matplotlib!=3.0.1,>=1.0.0->basemap==1.2.2+dev) (0.10.0)\n",
            "Requirement already satisfied: kiwisolver>=1.0.1 in /usr/local/lib/python3.7/dist-packages (from matplotlib!=3.0.1,>=1.0.0->basemap==1.2.2+dev) (1.3.2)\n",
            "Requirement already satisfied: pillow>=6.2.0 in /usr/local/lib/python3.7/dist-packages (from matplotlib!=3.0.1,>=1.0.0->basemap==1.2.2+dev) (7.1.2)\n",
            "Requirement already satisfied: pyproj==1.9.6 in /usr/local/lib/python3.7/dist-packages (1.9.6)\n"
          ]
        }
      ]
    },
    {
      "cell_type": "code",
      "metadata": {
        "colab": {
          "base_uri": "https://localhost:8080/",
          "height": 420
        },
        "id": "iYdKBEiPN2s1",
        "outputId": "252046ea-c4db-4164-ef59-6be68956e807"
      },
      "source": [
        "from mpl_toolkits.basemap import Basemap\n",
        "import matplotlib.pyplot as plt\n",
        "import numpy as np\n",
        "\n",
        "my_coords = [38.9719980,-76.9219820]\n",
        "\n",
        "zoom_scale = 1\n",
        "\n",
        "bbox = [my_coords[0]-zoom_scale,my_coords[0]+zoom_scale,\\\n",
        "        my_coords[1]-zoom_scale,my_coords[1]+zoom_scale]\n",
        "\n",
        "plt.figure(figsize=(12,6))\n",
        "# Define the projection, scale, the corners of the map, and the resolution.\n",
        "m = Basemap(projection='merc',llcrnrlat=bbox[0],urcrnrlat=bbox[1],\\\n",
        "            llcrnrlon=bbox[2],urcrnrlon=bbox[3],lat_ts=10,resolution='i')\n",
        "\n",
        "# Draw coastlines and fill continents and water with color\n",
        "m.drawcoastlines()\n",
        "m.fillcontinents(color='peru',lake_color='dodgerblue')\n",
        "\n",
        "# draw parallels, meridians, and color boundaries\n",
        "m.drawparallels(np.arange(bbox[0],bbox[1],(bbox[1]-bbox[0])/5),labels=[1,0,0,0])\n",
        "m.drawmeridians(np.arange(bbox[2],bbox[3],(bbox[3]-bbox[2])/5),labels=[0,0,0,1],rotation=45)\n",
        "m.drawmapboundary(fill_color='dodgerblue')\n",
        "\n",
        "# build and plot coordinates onto map\n",
        "x,y = m(my_coords[1],my_coords[0])\n",
        "m.plot(x,y,marker='D',color='r')\n",
        "plt.title(\"Geographic Point Test\")\n",
        "plt.savefig('coordinate_test.png', format='png', dpi=500)\n",
        "plt.show()        "
      ],
      "execution_count": 3,
      "outputs": [
        {
          "output_type": "display_data",
          "data": {
            "image/png": "[encoded data removed]",
            "text/plain": [
              "<Figure size 864x432 with 1 Axes>"
            ]
          },
          "metadata": {}
        }
      ]
    },
    {
      "cell_type": "code",
      "metadata": {
        "colab": {
          "base_uri": "https://localhost:8080/",
          "height": 252
        },
        "id": "7u9viD-nYMok",
        "outputId": "fe94db3a-dd85-4f29-e7ae-f2416afe5032"
      },
      "source": [
        "from mpl_toolkits.basemap import Basemap\n",
        "import matplotlib.pyplot as plt\n",
        "import numpy as np\n",
        "import csv\n",
        "import plotly.express as px\n",
        "import pandas as pd\n",
        "import os\n",
        "import heapq\n",
        "\n",
        "lats, lons,names = [],[],[]\n",
        "\n",
        "# the asos_stations file can be found here: \n",
        "# https://engineersportal.com/s/asos_stations.csv\n",
        "url = 'https://raw.githubusercontent.com/Ray9090/Coronavirus-in-Texas/main/cities.csv'\n",
        "\n",
        "with open('cities.csv') as csvfile:\n",
        "    reader = csv.DictReader(csvfile,delimiter=',')\n",
        "    for data in reader:\n",
        "        names.append(data[0])\n",
        "        lats.append(float(data[1]))\n",
        "        lons.append(float(data[2]))\n",
        "        #altitude.append(float(data['ELEV']))\n",
        "\n"
      ],
      "execution_count": 12,
      "outputs": [
        {
          "output_type": "error",
          "ename": "FileNotFoundError",
          "evalue": "ignored",
          "traceback": [
            "\u001b[0;31m---------------------------------------------------------------------------\u001b[0m",
            "\u001b[0;31mFileNotFoundError\u001b[0m                         Traceback (most recent call last)",
            "\u001b[0;32m<ipython-input-12-dc8279e1cc20>\u001b[0m in \u001b[0;36m<module>\u001b[0;34m()\u001b[0m\n\u001b[1;32m     14\u001b[0m \u001b[0murl\u001b[0m \u001b[0;34m=\u001b[0m \u001b[0;34m'https://raw.githubusercontent.com/Ray9090/Coronavirus-in-Texas/main/cities.csv'\u001b[0m\u001b[0;34m\u001b[0m\u001b[0;34m\u001b[0m\u001b[0m\n\u001b[1;32m     15\u001b[0m \u001b[0;34m\u001b[0m\u001b[0m\n\u001b[0;32m---> 16\u001b[0;31m \u001b[0;32mwith\u001b[0m \u001b[0mopen\u001b[0m\u001b[0;34m(\u001b[0m\u001b[0;34m'cities.csv'\u001b[0m\u001b[0;34m)\u001b[0m \u001b[0;32mas\u001b[0m \u001b[0mcsvfile\u001b[0m\u001b[0;34m:\u001b[0m\u001b[0;34m\u001b[0m\u001b[0;34m\u001b[0m\u001b[0m\n\u001b[0m\u001b[1;32m     17\u001b[0m     \u001b[0mreader\u001b[0m \u001b[0;34m=\u001b[0m \u001b[0mcsv\u001b[0m\u001b[0;34m.\u001b[0m\u001b[0mDictReader\u001b[0m\u001b[0;34m(\u001b[0m\u001b[0mcsvfile\u001b[0m\u001b[0;34m,\u001b[0m\u001b[0mdelimiter\u001b[0m\u001b[0;34m=\u001b[0m\u001b[0;34m','\u001b[0m\u001b[0;34m)\u001b[0m\u001b[0;34m\u001b[0m\u001b[0;34m\u001b[0m\u001b[0m\n\u001b[1;32m     18\u001b[0m     \u001b[0;32mfor\u001b[0m \u001b[0mdata\u001b[0m \u001b[0;32min\u001b[0m \u001b[0mreader\u001b[0m\u001b[0;34m:\u001b[0m\u001b[0;34m\u001b[0m\u001b[0;34m\u001b[0m\u001b[0m\n",
            "\u001b[0;31mFileNotFoundError\u001b[0m: [Errno 2] No such file or directory: 'cities.csv'"
          ]
        }
      ]
    }
  ]
}